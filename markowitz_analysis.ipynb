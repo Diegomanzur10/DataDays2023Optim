{
  "cells": [
    {
      "cell_type": "code",
      "execution_count": null,
      "metadata": {
        "id": "ntlG_vn6m9qf"
      },
      "outputs": [],
      "source": [
        "# Install libraries\n",
        "!pip install requests\n",
        "!pip install yfinance --upgrade --no-cache-dir"
      ]
    },
    {
      "cell_type": "code",
      "execution_count": null,
      "metadata": {
        "id": "CLPhxYXfqLAH"
      },
      "outputs": [],
      "source": [
        "# Import libraries\n",
        "import requests\n",
        "import yfinance as yf\n",
        "import datetime\n",
        "import matplotlib.pyplot as plt\n",
        "import pandas as pd\n",
        "import numpy as np"
      ]
    },
    {
      "cell_type": "code",
      "execution_count": null,
      "metadata": {
        "id": "32c2oB7HnZt-"
      },
      "outputs": [],
      "source": [
        "# Download data\n",
        "tickers = ['AAPL', 'IVV', 'ACWI', 'AMZN', 'LEMB', 'IAU', \"WMT\", \"DAVA\"]\n",
        "\n",
        "start = datetime.datetime(2016,1,1)\n",
        "end = datetime.datetime(2020,1,1)\n",
        "\n",
        "data = yf.download(tickers, start=start, end=end)\n",
        "data"
      ]
    },
    {
      "cell_type": "code",
      "execution_count": null,
      "metadata": {
        "id": "a4bVBqMLneyW"
      },
      "outputs": [],
      "source": [
        "# Select Close Prices\n",
        "dataPrices = data[\"Close\"]\n",
        "dataPrices"
      ]
    },
    {
      "cell_type": "code",
      "execution_count": null,
      "metadata": {
        "id": "QEXQzS3lql0i"
      },
      "outputs": [],
      "source": [
        "# Prices Plot\n",
        "dataPrices.plot(figsize = (20,10))"
      ]
    },
    {
      "cell_type": "code",
      "execution_count": null,
      "metadata": {
        "id": "def4o4YZniG2"
      },
      "outputs": [],
      "source": [
        "# Logarithm Returs\n",
        "dataReturns = np.log(dataPrices).diff()\n",
        "dataReturns = dataReturns.iloc[1:,:].dropna()\n",
        "dataReturns"
      ]
    },
    {
      "cell_type": "code",
      "execution_count": null,
      "metadata": {
        "id": "Dzw3HUhfqzuM"
      },
      "outputs": [],
      "source": [
        "# Return Plots\n",
        "dataReturns.plot(figsize = (20,8))\n",
        "dataReturns.plot(kind = \"kde\", figsize = (20,8))"
      ]
    },
    {
      "cell_type": "code",
      "execution_count": null,
      "metadata": {
        "id": "y2MW5XrPnl-N"
      },
      "outputs": [],
      "source": [
        "# Annualized Expected Returns\n",
        "dataExpectedAnnualizedReturns = ((dataReturns.mean() + 1)**(252)-1).to_numpy()\n",
        "\n",
        "dataExpectedAnnualizedReturnsDF = {}\n",
        "for counter, symbol in enumerate(dataReturns.columns.tolist()):\n",
        "    dataExpectedAnnualizedReturnsDF[symbol+' Exp. Annu. Ret.'] = round(dataExpectedAnnualizedReturns[counter],3)\n",
        "\n",
        "dataExpectedAnnualizedReturnsDF"
      ]
    },
    {
      "cell_type": "code",
      "execution_count": null,
      "metadata": {
        "id": "5xerjDEE7sIQ"
      },
      "outputs": [],
      "source": [
        "# Annualized Variance and Covariance\n",
        "dataVarCovar = dataReturns.cov()*252\n",
        "dataVarCovar"
      ]
    },
    {
      "cell_type": "code",
      "execution_count": null,
      "metadata": {
        "id": "edgm0dYmSbUl"
      },
      "outputs": [],
      "source": [
        "# Correlation Matrix\n",
        "dataCorr = dataReturns.corr()\n",
        "dataCorr"
      ]
    },
    {
      "cell_type": "code",
      "execution_count": null,
      "metadata": {
        "id": "37CW64CZrZO5"
      },
      "outputs": [],
      "source": [
        "# Annualized Volatility\n",
        "np.sqrt(dataVarCovar)"
      ]
    },
    {
      "cell_type": "markdown",
      "metadata": {
        "id": "Xf56MF3Hjijp"
      },
      "source": [
        "### To remember\n",
        "\n",
        "$$\n",
        "A^{-1}=\\frac{1}{|A|} \\cdot \\operatorname{Adj} A\n",
        "$$"
      ]
    },
    {
      "cell_type": "code",
      "execution_count": null,
      "metadata": {
        "id": "U_m0er6cM1Bh"
      },
      "outputs": [],
      "source": [
        "# Determinant of Var-Covar Matrix\n",
        "np.linalg.det(dataVarCovar)"
      ]
    },
    {
      "cell_type": "code",
      "execution_count": null,
      "metadata": {
        "id": "yFZm4U_CQ6Yn"
      },
      "outputs": [],
      "source": [
        "# Annualized Volatility per Asset\n",
        "dataAnnualizedVolatilityPerAsset = ((dataReturns.std() )* np.sqrt(252)).to_numpy()\n",
        "\n",
        "dataAnnualizedVolatilityPerAssetDF = {}\n",
        "for counter, symbol in enumerate(dataReturns.columns.tolist()):\n",
        "    dataAnnualizedVolatilityPerAssetDF[symbol+' Annu. Vol.'] = round(dataAnnualizedVolatilityPerAsset[counter],3)\n",
        "\n",
        "dataAnnualizedVolatilityPerAssetDF"
      ]
    },
    {
      "cell_type": "code",
      "execution_count": null,
      "metadata": {
        "id": "m_s2e5tqRRYp"
      },
      "outputs": [],
      "source": [
        "# Individual Sharpe Ratio\n",
        "dataSharpeRatioPerAssetDF = {}\n",
        "rf = 0.01\n",
        "\n",
        "for symbol in dataReturns.columns.tolist():\n",
        "    dataSharpeRatioPerAssetDF[symbol+' Sharpe Ratio'] = round( (dataExpectedAnnualizedReturnsDF[symbol+' Exp. Annu. Ret.'] - rf) / dataAnnualizedVolatilityPerAssetDF[symbol+' Annu. Vol.'], 3)\n",
        "\n",
        "dataSharpeRatioPerAssetDF"
      ]
    },
    {
      "cell_type": "code",
      "execution_count": null,
      "metadata": {
        "id": "kc_GmjvHnZDf"
      },
      "outputs": [],
      "source": [
        "# Function to determine equally weighted portfolios\n",
        "def pesosPortafolio(dataframe):\n",
        "    array = []\n",
        "    for i in dataframe.columns:\n",
        "        array.append(1/len(dataframe.columns))\n",
        "    arrayFinal = np.array(array)\n",
        "    return arrayFinal\n",
        "\n",
        "pesos = pesosPortafolio(dataReturns)\n",
        "pesos\n",
        "\n",
        "pesosEquallyWeightedDF = {}\n",
        "for counter, symbol in enumerate(dataReturns.columns.tolist()):\n",
        "    pesosEquallyWeightedDF[symbol+' weight'] = round(pesos[counter],3)\n",
        "\n",
        "pesosEquallyWeightedDF"
      ]
    },
    {
      "cell_type": "markdown",
      "metadata": {
        "id": "SmNe-y2YIu5F"
      },
      "source": [
        "# Characterisctics of Equally Weighted Portfolio"
      ]
    },
    {
      "cell_type": "code",
      "execution_count": null,
      "metadata": {
        "id": "ZJtjun7pnZKk"
      },
      "outputs": [],
      "source": [
        "#Varianza del Portafolio equally weighted\n",
        "varianza_portafolio = pesos.T @ dataVarCovar @ pesos\n",
        "retorno_esperado_port = pesos.T @ ((dataReturns.mean() + 1)**(252)-1).to_numpy()\n",
        "print(\"##########################################################################\")\n",
        "print(\"################    Analisis portafolio equally weighted     #############\")\n",
        "print(\"##########################################################################\")\n",
        "print(\"La varianza anualizada del portafolio es:\" + \" \" + str(round(varianza_portafolio*100,1))+\"%\")\n",
        "print(\"La volatilidad anualizada del portafolio es:\" + \" \" + str(round(np.sqrt(varianza_portafolio)*100,1))+\"%\")\n",
        "print(\"El retorno esperado del portafolio es:\" + \" \" + str(round(retorno_esperado_port*100,1))+\"%\")\n",
        "print(\"El ratio de sharpe portafolio es:\" + \" \" + str(round((retorno_esperado_port - rf) / np.sqrt(varianza_portafolio),1)))"
      ]
    },
    {
      "cell_type": "markdown",
      "metadata": {
        "id": "zk2pXLBZI5Ai"
      },
      "source": [
        "# N Portfolios Simulations"
      ]
    },
    {
      "cell_type": "code",
      "execution_count": null,
      "metadata": {
        "id": "JLoOc70q7sMM"
      },
      "outputs": [],
      "source": [
        "# Simulation of N portfolios changing the weights of each asset\n",
        "\n",
        "p_ret = [] # Define an empty array for portfolio returns\n",
        "p_vol = [] # Define an empty array for portfolio volatility\n",
        "p_weights = [] # Define an empty array for asset weights\n",
        "\n",
        "num_assets = len(dataReturns.columns)\n",
        "num_portfolios = 100000\n",
        "np.random.seed(1234)\n",
        "\n",
        "for portfolio in range(num_portfolios):\n",
        "    weights = (np.random.random(num_assets))\n",
        "    #weights = (np.random.dirichlet([1] * num_assets) * 3) - 0.3\n",
        "    weights = weights/np.sum(weights)\n",
        "    p_weights.append(weights)\n",
        "    returns = weights.T @ dataExpectedAnnualizedReturns # Returns are the product of individual expected returns of asset and its\n",
        "                                      # weights\n",
        "    p_ret.append(returns)\n",
        "    var = weights.T @ dataVarCovar @ weights# Portfolio Variance\n",
        "    sd = np.sqrt(var) # Daily standard deviation\n",
        "    ann_sd = sd # Annual standard deviation = volatility\n",
        "    p_vol.append(ann_sd)\n",
        "\n",
        "\n",
        "data = {'Returns':p_ret, 'Volatility':p_vol}\n",
        "\n",
        "for counter, symbol in enumerate(dataReturns.columns.tolist()):\n",
        "\n",
        "    weightsPerAsset = []\n",
        "\n",
        "    for w in p_weights:\n",
        "        weightsPerAsset.append(w[counter])\n",
        "\n",
        "    data[symbol+' weight'] = weightsPerAsset\n",
        "\n",
        "\n",
        "portfolios  = pd.DataFrame(data)\n",
        "portfolios.head() # Dataframe of the 1000 portfolios created"
      ]
    },
    {
      "cell_type": "code",
      "execution_count": null,
      "metadata": {
        "id": "bKmXhI6wvXr-"
      },
      "outputs": [],
      "source": [
        "# Plot efficient frontier\n",
        "portfolios.plot.scatter(x='Volatility', y='Returns', marker='o', s=10, alpha=0.3, grid=True, figsize=[10,10])"
      ]
    },
    {
      "cell_type": "code",
      "execution_count": null,
      "metadata": {
        "id": "hPhVMyoivZlH"
      },
      "outputs": [],
      "source": [
        "# We find the simulated portfolio with min variance / volatility\n",
        "min_vol_port = portfolios.iloc[portfolios['Volatility'].idxmin()] # idxmin() gives us the minimum value in the column specified.\n",
        "min_vol_port"
      ]
    },
    {
      "cell_type": "markdown",
      "metadata": {
        "id": "T0MSztJUI_w8"
      },
      "source": [
        "# Minimun Variance - Risk Porfolio (Discrete Solution)"
      ]
    },
    {
      "cell_type": "code",
      "execution_count": null,
      "metadata": {
        "id": "1cbaZDKfwbNY"
      },
      "outputs": [],
      "source": [
        "pesosMinVariance = min_vol_port.to_numpy()[2:]\n",
        "\n",
        "pesosMinVarianceDF = {}\n",
        "for counter, symbol in enumerate(dataReturns.columns.tolist()):\n",
        "    pesosMinVarianceDF[symbol+' weight'] = round(pesosMinVariance[counter],3)\n",
        "\n",
        "pesosMinVarianceDF"
      ]
    },
    {
      "cell_type": "code",
      "execution_count": null,
      "metadata": {
        "id": "BkTKpwlewNB5"
      },
      "outputs": [],
      "source": [
        "#Varianza del Portafolio\n",
        "varianza_portafolioMinVar = pesosMinVariance.T @ dataVarCovar @ pesosMinVariance\n",
        "retorno_esperado_portMinVar = pesosMinVariance.T @ ((dataReturns.mean() + 1)**(252)-1).to_numpy()\n",
        "print(\"##########################################################################\")\n",
        "print(\"################      Analisis portafolio min variance       #############\")\n",
        "print(\"##########################################################################\")\n",
        "print(\"La varianza anualizada del portafolio es:\" + \" \" + str(round(varianza_portafolioMinVar*100,1))+\"%\")\n",
        "print(\"La volatilidad anualizada del portafolio es:\" + \" \" + str(round(np.sqrt(varianza_portafolioMinVar)*100,1))+\"%\")\n",
        "print(\"El retorno esperado del portafolio es:\" + \" \" + str(round(retorno_esperado_portMinVar*100,1))+\"%\")\n",
        "print(\"El ratio de sharpe portafolio es:\" + \" \" + str(round((retorno_esperado_portMinVar - rf) / np.sqrt(varianza_portafolioMinVar),1)))"
      ]
    },
    {
      "cell_type": "code",
      "execution_count": null,
      "metadata": {
        "id": "VLGRyOFb8yIP"
      },
      "outputs": [],
      "source": [
        "# Plotting the minimum volatility portfolio\n",
        "plt.subplots(figsize=[10,10])\n",
        "plt.scatter(portfolios['Volatility'], portfolios['Returns'],marker='o', s=10, alpha=0.3)\n",
        "plt.scatter(min_vol_port[1], min_vol_port[0], color='r', marker='*', s=500)\n",
        "plt.xlabel(\"Volatility\")\n",
        "plt.ylabel(\"Returns\")"
      ]
    },
    {
      "cell_type": "markdown",
      "metadata": {
        "id": "tPe99CclJMkc"
      },
      "source": [
        "# Minimun Variance - Risk Portfolio (Closed Solution)\n",
        "\n",
        "$$w = \\frac{\\Sigma^{-1} 1}{\\mathbf{1}^{\\prime} \\Sigma^{-1} 1}$$"
      ]
    },
    {
      "cell_type": "code",
      "execution_count": null,
      "metadata": {
        "id": "22hW89zqCUDj"
      },
      "outputs": [],
      "source": [
        "pesosMinVarClosedSolution = np.linalg.inv(dataVarCovar) @ (np.ones(len(dataExpectedAnnualizedReturns))) / (np.ones(len(dataExpectedAnnualizedReturns)).T @ np.linalg.inv(dataVarCovar) @ (np.ones(len(dataExpectedAnnualizedReturns))))\n",
        "\n",
        "pesosMinVarClosedSolutionDF = {}\n",
        "for counter, symbol in enumerate(dataReturns.columns.tolist()):\n",
        "    pesosMinVarClosedSolutionDF[symbol+' weight'] = round(pesosMinVarClosedSolution[counter],3)\n",
        "\n",
        "pesosMinVarClosedSolutionDF"
      ]
    },
    {
      "cell_type": "code",
      "execution_count": null,
      "metadata": {
        "id": "cPmNlNIpDY3m"
      },
      "outputs": [],
      "source": [
        "retorno_esperado_portMinVarCS = pesosMinVarClosedSolution.T @ dataExpectedAnnualizedReturns # retorno_esperado_portMinVarCS are the product of individual expected returns_sharpe of asset and its pesosMinVarClosedSolution\n",
        "varianza_portafolioMinVarCS = pesosMinVarClosedSolution.T @ dataVarCovar @ pesosMinVarClosedSolution# Portfolio Variance\n",
        "\n",
        "print(\"##########################################################################\")\n",
        "print(\"#########    Analisis portafolio min Varianza Closed Solution     ########\")\n",
        "print(\"##########################################################################\")\n",
        "print(\"La varianza anualizada del portafolio es:\" + \" \" + str(round(varianza_portafolioMinVarCS*100,1))+\"%\")\n",
        "print(\"La volatilidad anualizada del portafolio es:\" + \" \" + str(round(np.sqrt(varianza_portafolioMinVarCS)*100,1))+\"%\")\n",
        "print(\"El retorno esperado del portafolio es:\" + \" \" + str(round(retorno_esperado_portMinVarCS*100,1))+\"%\")\n",
        "print(\"El ratio de sharpe portafolio es:\" + \" \" + str(round((retorno_esperado_portMinVarCS - rf) / np.sqrt(varianza_portafolioMinVarCS),1)))"
      ]
    },
    {
      "cell_type": "code",
      "execution_count": null,
      "metadata": {
        "id": "AfJHFbItDy5i"
      },
      "outputs": [],
      "source": [
        "# Plotting optimal portfolio\n",
        "plt.subplots(figsize=(10, 10))\n",
        "plt.scatter(portfolios['Volatility'], portfolios['Returns'],marker='o', s=10, alpha=0.3)\n",
        "plt.scatter(min_vol_port[1], min_vol_port[0], color='r', marker='*', s=500)\n",
        "plt.scatter(np.sqrt(varianza_portafolioMinVarCS), retorno_esperado_portMinVarCS, color='r', marker='>', s=500)\n",
        "plt.xlabel(\"Volatility\")\n",
        "plt.ylabel(\"Returns\")"
      ]
    },
    {
      "cell_type": "markdown",
      "metadata": {
        "id": "ZLWnQ1M6Jifl"
      },
      "source": [
        "# Maximun Sharpe Ratio Portfolio (Discrete Solution)\n"
      ]
    },
    {
      "cell_type": "code",
      "execution_count": null,
      "metadata": {
        "id": "q42_iERr80aR"
      },
      "outputs": [],
      "source": [
        "# Finding the optimal portfolio\n",
        "portfolios[\"SharpeRatio\"] = (portfolios['Returns']-rf) / portfolios['Volatility']\n",
        "optimal_risky_port = portfolios.iloc[portfolios[\"SharpeRatio\"].idxmax()]\n",
        "optimal_risky_port"
      ]
    },
    {
      "cell_type": "code",
      "execution_count": null,
      "metadata": {
        "id": "RWwR3JhQxYRz"
      },
      "outputs": [],
      "source": [
        "# Plotting optimal portfolio\n",
        "plt.subplots(figsize=(10, 10))\n",
        "plt.scatter(portfolios['Volatility'], portfolios['Returns'],marker='o', s=10, alpha=0.3)\n",
        "plt.scatter(min_vol_port[1], min_vol_port[0], color='r', marker='*', s=500)\n",
        "plt.scatter(np.sqrt(varianza_portafolioMinVarCS), retorno_esperado_portMinVarCS, color='r', marker='>', s=500)\n",
        "plt.scatter(optimal_risky_port[1], optimal_risky_port[0], color='g', marker='*', s=500)\n",
        "plt.xlabel(\"Volatility\")\n",
        "plt.ylabel(\"Returns\")"
      ]
    },
    {
      "cell_type": "code",
      "execution_count": null,
      "metadata": {
        "id": "6j9YnLkB3Fq9"
      },
      "outputs": [],
      "source": [
        "pesosMaxRS = optimal_risky_port.to_numpy()[2:len(optimal_risky_port)-1]\n",
        "\n",
        "pesosMaxRSDF = {}\n",
        "for counter, symbol in enumerate(dataReturns.columns.tolist()):\n",
        "    pesosMaxRSDF[symbol+' weight'] = round(pesosMaxRS[counter],3)\n",
        "\n",
        "pesosMaxRSDF"
      ]
    },
    {
      "cell_type": "code",
      "execution_count": null,
      "metadata": {
        "id": "kQsUQVt03WTG"
      },
      "outputs": [],
      "source": [
        "#Varianza del Portafolio\n",
        "varianza_portafolioMaxRS = pesosMaxRS.T @ dataVarCovar @ pesosMaxRS\n",
        "retorno_esperado_portMaxRS = pesosMaxRS.T @ ((dataReturns.mean() + 1)**(252)-1).to_numpy()\n",
        "print(\"##########################################################################\")\n",
        "print(\"################    Analisis portafolio max Ratio Sharpe     #############\")\n",
        "print(\"##########################################################################\")\n",
        "print(\"La varianza anualizada del portafolio es:\" + \" \" + str(round(varianza_portafolioMaxRS*100,1))+\"%\")\n",
        "print(\"La volatilidad anualizada del portafolio es:\" + \" \" + str(round(np.sqrt(varianza_portafolioMaxRS)*100,1))+\"%\")\n",
        "print(\"El retorno esperado del portafolio es:\" + \" \" + str(round(retorno_esperado_portMaxRS*100,1))+\"%\")\n",
        "print(\"El ratio de sharpe portafolio es:\" + \" \" + str(round((retorno_esperado_portMaxRS - rf) / np.sqrt(varianza_portafolioMaxRS),1)))"
      ]
    },
    {
      "cell_type": "markdown",
      "metadata": {
        "id": "Q9aMNqfuJrEY"
      },
      "source": [
        "# Maximun Sharpe Ratio Portfolio (Closed Solution)\n",
        "\n",
        "$$\n",
        " w = \\frac{\\boldsymbol{\\Sigma}^{-1}\\left(\\boldsymbol{\\bar{R}}-\\boldsymbol{r_{f}}\\right)}{\\mathbf{1}^{\\prime} \\boldsymbol{\\Sigma}^{-1}\\left(\\boldsymbol{\\bar{R}}-\\boldsymbol{r_{f}}\\right)}\n",
        "$$"
      ]
    },
    {
      "cell_type": "code",
      "execution_count": null,
      "metadata": {
        "id": "U5qoVsIW9MJw"
      },
      "outputs": [],
      "source": [
        "pesosMaxRSClosedSolution = np.linalg.inv(dataVarCovar) @ (dataExpectedAnnualizedReturns - rf) / (np.ones(len(dataExpectedAnnualizedReturns)).T @ np.linalg.inv(dataVarCovar) @ (dataExpectedAnnualizedReturns - rf))\n",
        "\n",
        "pesosMaxRSClosedSolutionDF = {}\n",
        "for counter, symbol in enumerate(dataReturns.columns.tolist()):\n",
        "    pesosMaxRSClosedSolutionDF[symbol+' weight'] = round(pesosMaxRSClosedSolution[counter],3)\n",
        "\n",
        "pesosMaxRSClosedSolutionDF"
      ]
    },
    {
      "cell_type": "code",
      "execution_count": null,
      "metadata": {
        "id": "ixFQsZmz_LI7"
      },
      "outputs": [],
      "source": [
        "retorno_esperado_portMaxRSCS = pesosMaxRSClosedSolution.T @ dataExpectedAnnualizedReturns # retorno_esperado_portMaxRSCS are the product of individual expected returns_sharpe of asset and its pesosMaxRSClosedSolution\n",
        "varianza_portafolioMaxRSCS = pesosMaxRSClosedSolution.T @ dataVarCovar @ pesosMaxRSClosedSolution# Portfolio Variance\n",
        "\n",
        "print(\"##########################################################################\")\n",
        "print(\"#########  Analisis portafolio max Ratio Sharpe Closed Solution   ########\")\n",
        "print(\"##########################################################################\")\n",
        "print(\"La varianza anualizada del portafolio es:\" + \" \" + str(round(varianza_portafolioMaxRSCS*100,1))+\"%\")\n",
        "print(\"La volatilidad anualizada del portafolio es:\" + \" \" + str(round(np.sqrt(varianza_portafolioMaxRSCS)*100,1))+\"%\")\n",
        "print(\"El retorno esperado del portafolio es:\" + \" \" + str(round(retorno_esperado_portMaxRSCS*100,1))+\"%\")\n",
        "print(\"El ratio de sharpe portafolio es:\" + \" \" + str(round((retorno_esperado_portMaxRSCS - rf) / np.sqrt(varianza_portafolioMaxRSCS),1)))"
      ]
    },
    {
      "cell_type": "code",
      "execution_count": null,
      "metadata": {
        "id": "MS6NZiUyBtYj"
      },
      "outputs": [],
      "source": [
        "# Plotting optimal portfolio\n",
        "plt.subplots(figsize=(10, 10))\n",
        "plt.scatter(portfolios['Volatility'], portfolios['Returns'],marker='o', s=10, alpha=0.3)\n",
        "plt.scatter(min_vol_port[1], min_vol_port[0], color='r', marker='*', s=500)\n",
        "plt.scatter(np.sqrt(varianza_portafolioMinVarCS), retorno_esperado_portMinVarCS, color='r', marker='>', s=500)\n",
        "plt.scatter(optimal_risky_port[1], optimal_risky_port[0], color='g', marker='*', s=500)\n",
        "plt.scatter(np.sqrt(varianza_portafolioMaxRSCS), retorno_esperado_portMaxRSCS, color='g', marker='>', s=500)\n",
        "# plt.ylim(0, 0.5)\n",
        "# plt.xlim(0, 0.5)\n",
        "plt.xlabel(\"Volatility\")\n",
        "plt.ylabel(\"Returns\")"
      ]
    },
    {
      "cell_type": "markdown",
      "metadata": {
        "id": "SG1WNq0YKfBk"
      },
      "source": [
        "# Asset's Weights by Regions in Space $\\sigma$ - $\\bar{R}$"
      ]
    },
    {
      "cell_type": "code",
      "execution_count": null,
      "metadata": {
        "id": "rok2tQgM-ulw"
      },
      "outputs": [],
      "source": [
        "# Plotting optimal portfolio\n",
        "asset = 1\n",
        "plt.subplots(figsize=(10, 10))\n",
        "plt.scatter(portfolios['Volatility'], portfolios['Returns'], c = portfolios.iloc[:,asset + 1],marker='o', s=10, alpha=0.3, vmin = portfolios.iloc[:,asset + 1].min(), vmax = portfolios.iloc[:,asset + 1].max(), cmap='rainbow')\n",
        "plt.scatter(min_vol_port[1], min_vol_port[0], color='r', marker='*', s=500)\n",
        "plt.scatter(np.sqrt(varianza_portafolioMinVarCS), retorno_esperado_portMinVarCS, color='r', marker='>', s=500)\n",
        "plt.scatter(optimal_risky_port[1], optimal_risky_port[0], color='g', marker='*', s=500)\n",
        "plt.scatter(np.sqrt(varianza_portafolioMaxRSCS), retorno_esperado_portMaxRSCS, color='g', marker='>', s=500)\n",
        "plt.ylim(0, 0.5)\n",
        "plt.xlim(0, 0.5)\n",
        "plt.colorbar(label='Weight of ' + portfolios.columns[asset + 1])\n",
        "plt.xlabel(\"Volatility\")\n",
        "plt.ylabel(\"Returns\")"
      ]
    },
    {
      "cell_type": "code",
      "execution_count": null,
      "metadata": {
        "id": "r32oN-sOAP7W"
      },
      "outputs": [],
      "source": [
        "# Plotting optimal portfolio\n",
        "asset = 2\n",
        "plt.subplots(figsize=(10, 10))\n",
        "plt.scatter(portfolios['Volatility'], portfolios['Returns'], c = portfolios.iloc[:,asset + 1],marker='o', s=10, alpha=0.3, vmin = portfolios.iloc[:,asset + 1].min(), vmax = portfolios.iloc[:,asset + 1].max(), cmap='rainbow')\n",
        "plt.scatter(min_vol_port[1], min_vol_port[0], color='r', marker='*', s=500)\n",
        "plt.scatter(np.sqrt(varianza_portafolioMinVarCS), retorno_esperado_portMinVarCS, color='r', marker='>', s=500)\n",
        "plt.scatter(optimal_risky_port[1], optimal_risky_port[0], color='g', marker='*', s=500)\n",
        "plt.scatter(np.sqrt(varianza_portafolioMaxRSCS), retorno_esperado_portMaxRSCS, color='g', marker='>', s=500)\n",
        "plt.ylim(0, 0.5)\n",
        "plt.xlim(0, 0.5)\n",
        "plt.colorbar(label='Weight of ' + portfolios.columns[asset + 1])\n",
        "plt.xlabel(\"Volatility\")\n",
        "plt.ylabel(\"Returns\")"
      ]
    },
    {
      "cell_type": "code",
      "execution_count": null,
      "metadata": {
        "id": "2iP2yiwNAQNp"
      },
      "outputs": [],
      "source": [
        "# Plotting optimal portfolio\n",
        "asset = 3\n",
        "plt.subplots(figsize=(10, 10))\n",
        "plt.scatter(portfolios['Volatility'], portfolios['Returns'], c = portfolios.iloc[:,asset + 1],marker='o', s=10, alpha=0.3, vmin = portfolios.iloc[:,asset + 1].min(), vmax = portfolios.iloc[:,asset + 1].max(), cmap='rainbow')\n",
        "plt.scatter(min_vol_port[1], min_vol_port[0], color='r', marker='*', s=500)\n",
        "plt.scatter(np.sqrt(varianza_portafolioMinVarCS), retorno_esperado_portMinVarCS, color='r', marker='>', s=500)\n",
        "plt.scatter(optimal_risky_port[1], optimal_risky_port[0], color='g', marker='*', s=500)\n",
        "plt.scatter(np.sqrt(varianza_portafolioMaxRSCS), retorno_esperado_portMaxRSCS, color='g', marker='>', s=500)\n",
        "plt.ylim(0, 0.5)\n",
        "plt.xlim(0, 0.5)\n",
        "plt.colorbar(label='Weight of ' + portfolios.columns[asset + 1])\n",
        "plt.xlabel(\"Volatility\")\n",
        "plt.ylabel(\"Returns\")"
      ]
    },
    {
      "cell_type": "markdown",
      "metadata": {
        "id": "IGp47x27BzpX"
      },
      "source": [
        "# How Change Asset's Weights Thought Time?"
      ]
    },
    {
      "cell_type": "code",
      "execution_count": null,
      "metadata": {
        "id": "uwztwhhUClEe"
      },
      "outputs": [],
      "source": [
        "lastDateRebalance = dataReturns.index[-252]\n",
        "listDates = dataReturns[lastDateRebalance:].index.to_list()\n",
        "listDates = [listDates[x] for x in range(1,len(listDates)-1,5)]\n",
        "\n",
        "dictHistWeigthsMVDiscrete = {}\n",
        "dictHistWeigthsMVCS = {}\n",
        "\n",
        "for dateRebalance in listDates:\n",
        "    dataReturnsRebalance = dataReturns[:dateRebalance]\n",
        "    dataVarCovar = dataReturnsRebalance.cov()*252\n",
        "    dataExpectedAnnualizedReturns = ((dataReturnsRebalance.mean() + 1)**(252)-1).to_numpy()\n",
        "\n",
        "    # Simulation of N portfolios changing the weights of each asset\n",
        "\n",
        "    p_ret = [] # Define an empty array for portfolio returns\n",
        "    p_vol = [] # Define an empty array for portfolio volatility\n",
        "    p_weights = [] # Define an empty array for asset weights\n",
        "\n",
        "    num_assets = len(dataReturns.columns)\n",
        "    num_portfolios = 1000\n",
        "    np.random.seed(1234)\n",
        "\n",
        "    for portfolio in range(num_portfolios):\n",
        "        weights = (np.random.random(num_assets))\n",
        "        # weights = (np.random.dirichlet([1] * num_assets) * 3) - 0.3\n",
        "        weights = weights/np.sum(weights)\n",
        "        p_weights.append(weights)\n",
        "        returns = weights.T @ dataExpectedAnnualizedReturns # Returns are the product of individual expected returns of asset and its\n",
        "                                          # weights\n",
        "        p_ret.append(returns)\n",
        "        var = weights.T @ dataVarCovar @ weights# Portfolio Variance\n",
        "        sd = np.sqrt(var) # Daily standard deviation\n",
        "        ann_sd = sd # Annual standard deviation = volatility\n",
        "        p_vol.append(ann_sd)\n",
        "\n",
        "\n",
        "    data = {'Returns':p_ret, 'Volatility':p_vol}\n",
        "\n",
        "    for counter, symbol in enumerate(dataReturns.columns.tolist()):\n",
        "\n",
        "        weightsPerAsset = []\n",
        "\n",
        "        for w in p_weights:\n",
        "            weightsPerAsset.append(w[counter])\n",
        "\n",
        "        data[symbol+' weight'] = weightsPerAsset\n",
        "\n",
        "\n",
        "    portfolios  = pd.DataFrame(data)\n",
        "    portfolios.head() # Dataframe of the 1000 portfolios created\n",
        "\n",
        "    min_vol_port = portfolios.iloc[portfolios['Volatility'].idxmin()] # idxmin() gives us the minimum value in the column specified.\n",
        "\n",
        "    dictHistWeigthsMVDiscrete[dateRebalance] = min_vol_port.to_dict()\n",
        "\n",
        "\n",
        "\n",
        "    pesosMinVarClosedSolution = np.linalg.inv(dataVarCovar) @ (np.ones(len(dataExpectedAnnualizedReturns))) / (np.ones(len(dataExpectedAnnualizedReturns)).T @ np.linalg.inv(dataVarCovar) @ (np.ones(len(dataExpectedAnnualizedReturns))))\n",
        "\n",
        "    pesosMinVarClosedSolutionDF = {}\n",
        "    for counter, symbol in enumerate(dataReturns.columns.tolist()):\n",
        "        pesosMinVarClosedSolutionDF[symbol+' weight'] = round(pesosMinVarClosedSolution[counter],3)\n",
        "\n",
        "    dictHistWeigthsMVCS[dateRebalance] = pesosMinVarClosedSolutionDF\n",
        "\n"
      ]
    },
    {
      "cell_type": "code",
      "execution_count": null,
      "metadata": {
        "id": "X2nB29kTL6Ci"
      },
      "outputs": [],
      "source": [
        "pd.DataFrame(dictHistWeigthsMVDiscrete).T.plot(figsize = (15,10))"
      ]
    },
    {
      "cell_type": "code",
      "execution_count": null,
      "metadata": {
        "id": "cO-YbeuAL6Mz"
      },
      "outputs": [],
      "source": [
        "pd.DataFrame(dictHistWeigthsMVCS).T.plot(figsize = (15,10))"
      ]
    },
    {
      "cell_type": "code",
      "execution_count": null,
      "metadata": {
        "id": "yw5QGSB0_sdd"
      },
      "outputs": [],
      "source": [
        "dfHistWeigthsMVDiscrete = pd.DataFrame(dictHistWeigthsMVDiscrete).T\n",
        "initialWeigths = dfHistWeigthsMVDiscrete.iloc[0,2:]\n",
        "initialValueInvestment = 100\n",
        "\n",
        "dateRebalanceInter = dfHistWeigthsMVDiscrete.index.to_list()[0]\n",
        "\n",
        "dictWeightsRebalanceIntra = {}\n",
        "dictinitialValueInvestment = {}\n",
        "\n",
        "for dateRebalanceInter in dfHistWeigthsMVDiscrete.index.to_list():\n",
        "\n",
        "    dataReturnsDRI = dataReturns.loc[dateRebalanceInter]\n",
        "    investmentPerAsset = initialWeigths * initialValueInvestment\n",
        "    newInvestmentPerAsset = investmentPerAsset.to_numpy() * (1 + dataReturnsDRI)\n",
        "    newWeigths = newInvestmentPerAsset / newInvestmentPerAsset.sum()\n",
        "    newValueInvestment = newInvestmentPerAsset.sum()\n",
        "\n",
        "    initialWeigths = newWeigths\n",
        "    initialValueInvestment = newValueInvestment\n",
        "\n",
        "    dictWeightsRebalanceIntra[dateRebalanceInter] = initialWeigths\n",
        "    dictinitialValueInvestment[dateRebalanceInter] = initialValueInvestment\n"
      ]
    },
    {
      "cell_type": "code",
      "execution_count": null,
      "metadata": {
        "id": "kciDL3iWUYw-"
      },
      "outputs": [],
      "source": [
        "def rebalanceIntra(initialValueInvestment, initialWeigths, dataReturns, listDates):\n",
        "\n",
        "    dfHistWeigthsMVDiscrete = pd.DataFrame(dictHistWeigthsMVDiscrete).T\n",
        "    dateRebalanceInter = dfHistWeigthsMVDiscrete.loc[listDates[0]]\n",
        "\n",
        "    dictWeightsRebalanceIntra = {}\n",
        "    dictinitialValueInvestment = {}\n",
        "\n",
        "    for dateRebalanceInter in listDates:\n",
        "\n",
        "        dataReturnsDRI = dataReturns.loc[dateRebalanceInter]\n",
        "        investmentPerAsset = initialWeigths * initialValueInvestment\n",
        "        newInvestmentPerAsset = investmentPerAsset.to_numpy() * (1 + dataReturnsDRI)\n",
        "        newWeigths = newInvestmentPerAsset / newInvestmentPerAsset.sum()\n",
        "        newValueInvestment = newInvestmentPerAsset.sum()\n",
        "\n",
        "        initialWeigths = newWeigths\n",
        "        initialValueInvestment = newValueInvestment\n",
        "\n",
        "        dictWeightsRebalanceIntra[dateRebalanceInter] = initialWeigths\n",
        "        dictinitialValueInvestment[dateRebalanceInter] = initialValueInvestment\n",
        "\n",
        "    return([dictWeightsRebalanceIntra, dictinitialValueInvestment])\n"
      ]
    },
    {
      "cell_type": "code",
      "execution_count": null,
      "metadata": {
        "id": "4B9jCedHQNPu"
      },
      "outputs": [],
      "source": [
        "lastDateRebalance = dataReturns.index[-252]\n",
        "listDates = dataReturns[lastDateRebalance:].index.to_list()\n",
        "listDates = [listDates[x] for x in range(1,len(listDates)-1,5)]\n",
        "\n",
        "listListDates = []\n",
        "\n",
        "for index, dateReb in enumerate(listDates[:-1]):\n",
        "    # listListDates.append(pd.date_range(dateReb, listDates[index]))\n",
        "    listListDates.append(dataReturns.loc[listDates[index]:listDates[index + 1]].index)\n",
        "\n",
        "dfHistWeigthsMVDiscrete = pd.DataFrame(dictHistWeigthsMVDiscrete).T\n",
        "\n",
        "dictInfo = {}\n",
        "\n",
        "dfValueRebal = pd.DataFrame()\n",
        "dfWeigthsRebal= pd.DataFrame()\n",
        "\n",
        "for i, listDates in enumerate(listListDates):\n",
        "    initialWeigths = dfHistWeigthsMVDiscrete.loc[listDates[0]][2:]\n",
        "    if i == 0:\n",
        "        dictInfo[listDates[0]] = rebalanceIntra(100, initialWeigths, dataReturns, listDates)\n",
        "\n",
        "    else:\n",
        "        dictInfo[listDates[0]] = rebalanceIntra(dfValueRebal.iloc[-1].item(), initialWeigths, dataReturns, listDates)\n",
        "    dfValueRebal = pd.concat([dfValueRebal, pd.DataFrame(dictInfo[listDates[0]][1], index = [\"Markowitz\"]).T])\n",
        "    dfWeigthsRebal = pd.concat([dfWeigthsRebal, pd.DataFrame(dictInfo[listDates[0]][0]).T])\n"
      ]
    },
    {
      "cell_type": "code",
      "execution_count": null,
      "metadata": {
        "id": "7pWuASpGaxmD"
      },
      "outputs": [],
      "source": [
        "dfWeigthsRebal.plot(figsize = (15,10))\n",
        "plt.title(\"Weights of assets over time\")\n",
        "plt.ylabel(\"Time\")\n",
        "plt.ylabel(\"Weights\")"
      ]
    },
    {
      "cell_type": "code",
      "execution_count": null,
      "metadata": {
        "id": "xVzbaxz1RBDY"
      },
      "outputs": [],
      "source": [
        "dfValueRebal\n",
        "dfValueRebal.plot(figsize = (15,10))\n",
        "plt.ylabel(\"Time\")\n",
        "plt.ylabel(\"Annualized Returns [%]\")"
      ]
    },
    {
      "cell_type": "code",
      "execution_count": null,
      "metadata": {
        "id": "GckZKrCsOt1-"
      },
      "outputs": [],
      "source": [
        "# Calculate the cumulative daily returns\n",
        "df_cum_daily_returns = (1 + dataReturns.iloc[len(dataReturns) - 252:, :]).cumprod() - 1\n",
        "df_cum_daily_returns = df_cum_daily_returns\n",
        "(df_cum_daily_returns*100 + 100).plot(figsize =(15,10))\n",
        "plt.xlabel(\"Time\")\n",
        "plt.ylabel(\"Annualized Return [%]\")\n",
        "plt.title(\"Buy and Hold Strategy\")"
      ]
    },
    {
      "cell_type": "code",
      "execution_count": null,
      "metadata": {
        "id": "P3GAbxi0did4"
      },
      "outputs": [],
      "source": [
        "df_cum_daily_return_scaled = (df_cum_daily_returns*100 + 100)\n",
        "df_cum_daily_return_scaled.join(dfValueRebal, lsuffix=\"index\").plot(figsize = (15,10))\n",
        "\n",
        "plt.xlabel(\"Time\")\n",
        "plt.ylabel(\"Annualized Return [%]\")\n",
        "plt.title(\"Buy and Hold Strategy VS Markowitz\")"
      ]
    },
    {
      "cell_type": "markdown",
      "metadata": {
        "id": "-KYXRzxyjO5b"
      },
      "source": [
        "# And ML?\n",
        "\n",
        "### What If Estimate a Robust VarCovar Matrix?"
      ]
    },
    {
      "cell_type": "code",
      "execution_count": null,
      "metadata": {
        "id": "-71N86DQf5lK"
      },
      "outputs": [],
      "source": [
        "from sklearn.covariance import LedoitWolf\n",
        "lw = LedoitWolf()\n",
        "loglik_lw = lw.fit(dataReturns)\n",
        "new_var_covar = loglik_lw.covariance_ * 252"
      ]
    },
    {
      "cell_type": "code",
      "execution_count": null,
      "metadata": {
        "id": "idia1iKlrqaU"
      },
      "outputs": [],
      "source": [
        "pd.DataFrame(new_var_covar)"
      ]
    },
    {
      "cell_type": "code",
      "execution_count": null,
      "metadata": {
        "id": "u-9o_0aVuwGc"
      },
      "outputs": [],
      "source": [
        "# Determinant of Var-Covar Matrix\n",
        "np.linalg.det(new_var_covar)"
      ]
    },
    {
      "cell_type": "code",
      "execution_count": null,
      "metadata": {
        "id": "gRzmPrJPriNd"
      },
      "outputs": [],
      "source": [
        "pesosMaxRSClosedSolutionShrunkCovariance = np.linalg.inv(new_var_covar) @ (dataExpectedAnnualizedReturns - rf) / (np.ones(len(dataExpectedAnnualizedReturns)).T @ np.linalg.inv(new_var_covar) @ (dataExpectedAnnualizedReturns - rf))\n",
        "\n",
        "pesosMaxRSClosedSolutionDFShrunkCovariance = {}\n",
        "for counter, symbol in enumerate(dataReturns.columns.tolist()):\n",
        "    pesosMaxRSClosedSolutionDFShrunkCovariance[symbol+' weight'] = round(pesosMaxRSClosedSolution[counter],3)\n",
        "\n",
        "pesosMaxRSClosedSolutionDFShrunkCovariance"
      ]
    },
    {
      "cell_type": "code",
      "execution_count": null,
      "metadata": {
        "id": "dxqlRWc-dpCj"
      },
      "outputs": [],
      "source": [
        "retorno_esperado_portMaxRSCSShrunkCovariance = pesosMaxRSClosedSolutionShrunkCovariance.T @ dataExpectedAnnualizedReturns # retorno_esperado_portMaxRSCSShrunkCovariance are the product of individual expected returns_sharpe of asset and its pesosMaxRSClosedSolution\n",
        "varianza_portafolioMaxRSCSShrunkCovariance = pesosMaxRSClosedSolutionShrunkCovariance.T @ new_var_covar @ pesosMaxRSClosedSolutionShrunkCovariance# Portfolio Variance\n",
        "\n",
        "print(\"##########################################################################\")\n",
        "print(\"#  Analisis portafolio max Ratio Sharpe Closed Solution ShrunkCovariance #\")\n",
        "print(\"##########################################################################\")\n",
        "print(\"La varianza anualizada del portafolio es:\" + \" \" + str(round(varianza_portafolioMaxRSCSShrunkCovariance*100,1))+\"%\")\n",
        "print(\"La volatilidad anualizada del portafolio es:\" + \" \" + str(round(np.sqrt(varianza_portafolioMaxRSCSShrunkCovariance)*100,1))+\"%\")\n",
        "print(\"El retorno esperado del portafolio es:\" + \" \" + str(round(retorno_esperado_portMaxRSCSShrunkCovariance*100,1))+\"%\")\n",
        "print(\"El ratio de sharpe portafolio es:\" + \" \" + str(round((retorno_esperado_portMaxRSCSShrunkCovariance - rf) / np.sqrt(varianza_portafolioMaxRSCSShrunkCovariance),1)))"
      ]
    },
    {
      "cell_type": "code",
      "execution_count": null,
      "metadata": {
        "id": "NiF0nsyrrnXd"
      },
      "outputs": [],
      "source": [
        "# Plotting optimal portfolio\n",
        "plt.subplots(figsize=(10, 10))\n",
        "plt.scatter(portfolios['Volatility'], portfolios['Returns'],marker='o', s=10, alpha=0.3)\n",
        "plt.scatter(min_vol_port[1], min_vol_port[0], color='r', marker='*', s=500)\n",
        "plt.scatter(np.sqrt(varianza_portafolioMinVarCS), retorno_esperado_portMinVarCS, color='r', marker='>', s=500)\n",
        "plt.scatter(optimal_risky_port[1], optimal_risky_port[0], color='g', marker='*', s=500)\n",
        "plt.scatter(np.sqrt(varianza_portafolioMaxRSCS), retorno_esperado_portMaxRSCS, color='g', marker='>', s=500)\n",
        "plt.scatter(np.sqrt(varianza_portafolioMaxRSCSShrunkCovariance), retorno_esperado_portMaxRSCSShrunkCovariance, color='b', marker='*', s=500)\n",
        "# plt.ylim(0, 0.5)\n",
        "# plt.xlim(0, 0.5)\n",
        "plt.xlabel(\"Volatility\")\n",
        "plt.ylabel(\"Returns\")"
      ]
    },
    {
      "cell_type": "code",
      "execution_count": null,
      "metadata": {
        "id": "lJ0r76FssVPm"
      },
      "outputs": [],
      "source": []
    }
  ],
  "metadata": {
    "colab": {
      "provenance": [],
      "toc_visible": true
    },
    "kernelspec": {
      "display_name": "Python 3",
      "name": "python3"
    },
    "language_info": {
      "name": "python"
    }
  },
  "nbformat": 4,
  "nbformat_minor": 0
}
